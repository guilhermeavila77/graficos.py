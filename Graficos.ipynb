{
  "nbformat": 4,
  "nbformat_minor": 0,
  "metadata": {
    "colab": {
      "name": "Graficos.ipynb",
      "provenance": [],
      "authorship_tag": "ABX9TyM3cv4EZ8W3mxtRXVzf8oC2",
      "include_colab_link": true
    },
    "kernelspec": {
      "name": "python3",
      "display_name": "Python 3"
    },
    "language_info": {
      "name": "python"
    }
  },
  "cells": [
    {
      "cell_type": "markdown",
      "metadata": {
        "id": "view-in-github",
        "colab_type": "text"
      },
      "source": [
        "<a href=\"https://colab.research.google.com/github/guilhermeavila77/graficos.py/blob/main/Graficos.ipynb\" target=\"_parent\"><img src=\"https://colab.research.google.com/assets/colab-badge.svg\" alt=\"Open In Colab\"/></a>"
      ]
    },
    {
      "cell_type": "code",
      "execution_count": null,
      "metadata": {
        "id": "7uPoLIw_7-EE"
      },
      "outputs": [],
      "source": [
        "import matplotlib.pyplot as plt\n",
        "\n",
        "x = ['Março', 'Abril', 'Maio', 'Junho', 'julho']\n",
        "y = [35000, 29000, 27000, 32000, 33000]\n",
        "\n",
        "plt.plot(x,y, 'g', linewidth=25)\n",
        "plt.ylim(20000, 40000)\n",
        "plt.title('Titulo')\n",
        "plt.xlabel('Titulo da base')\n",
        "plt.ylabel('Titulo lateral')"
      ]
    },
    {
      "cell_type": "code",
      "source": [
        "import matplotlib.pyplot as plt\n",
        "\n",
        "x = ['Março', 'Abril', 'Maio', 'Junho', 'julho']\n",
        "y = [35000, 29000, 27000, 32000, 33000]\n",
        "\n",
        "plt.plot(x,y,'b o')\n",
        "plt.ylim(20000, 40000)\n",
        "plt.title('Titulo')\n",
        "plt.xlabel('Titulo da base')\n",
        "plt.ylabel('Titulo lateral')"
      ],
      "metadata": {
        "id": "yKUKyqQp9dfg"
      },
      "execution_count": null,
      "outputs": []
    },
    {
      "cell_type": "code",
      "source": [
        "import matplotlib.pyplot as plt\n",
        "\n",
        "x = ['Março', 'Abril', 'Maio', 'Junho', 'julho']\n",
        "y = [35000, 29000, 27000, 32000, 33000]\n",
        "\n",
        "plt.plot(x,y,'r')\n",
        "plt.plot(x,y,'r o')\n",
        "plt.ylim(20000, 40000)\n",
        "plt.title('Titulo')\n",
        "plt.xlabel('Titulo da base')\n",
        "plt.ylabel('Titulo lateral')"
      ],
      "metadata": {
        "id": "uldqplvP-1wr"
      },
      "execution_count": null,
      "outputs": []
    },
    {
      "cell_type": "code",
      "source": [
        "import matplotlib.pyplot as plt\n",
        "largura = 0.5\n",
        "\n",
        "x = ['Março', 'Abril', 'Maio', 'Junho', 'julho']\n",
        "y = [35000, 29000, 27000, 32000, 33000]\n",
        "\n",
        "plt.bar(x,y, largura)\n",
        "plt.ylim(20000, 40000)\n",
        "plt.title('Titulo')\n",
        "plt.xlabel('Titulo da base')\n",
        "plt.ylabel('Titulo lateral')"
      ],
      "metadata": {
        "id": "jiC8JtUe_1JZ"
      },
      "execution_count": null,
      "outputs": []
    },
    {
      "cell_type": "code",
      "source": [
        "import matplotlib.pyplot as plt\n",
        "largura = 0.5\n",
        "\n",
        "x = ['Março', 'Abril', 'Maio', 'Junho', 'julho']\n",
        "y = [35000, 29000, 27000, 32000, 33000]\n",
        "\n",
        "plt.barh(x,y,largura)\n",
        "plt.xlim(20000, 40000)\n",
        "plt.title('Titulo')\n",
        "plt.xlabel('Titulo da base')\n",
        "plt.ylabel('Titulo lateral')"
      ],
      "metadata": {
        "id": "TzTi2NAFAmCv"
      },
      "execution_count": null,
      "outputs": []
    },
    {
      "cell_type": "code",
      "source": [
        "import matplotlib.pyplot as plt\n",
        "import numpy as np\n",
        "\n",
        "largura = 0.3\n",
        "\n",
        "mes = ['Março', 'Abril', 'Maio', 'Junho', 'julho']\n",
        "x = np.arange(5)\n",
        "y1 = [35000, 29000, 27000, 32000, 33000]\n",
        "y2 = [34000, 33000, 25000, 37000, 27000]\n",
        "\n",
        "plt.bar(x,y1,largura, color = 'b')\n",
        "plt.bar(x+largura, y2, largura, color = 'c')\n",
        "plt.xticks(x, mes)\n",
        "plt.title('Titulo')\n",
        "plt.xlabel('Titulo da base')\n",
        "plt.ylabel('Titulo lateral')\n",
        "plt.legend(['Legenda1', 'Legenda 2'], loc=4)\n",
        "plt.show()"
      ],
      "metadata": {
        "id": "Muh9xrYsBjGH"
      },
      "execution_count": null,
      "outputs": []
    },
    {
      "cell_type": "code",
      "source": [
        "import matplotlib.pyplot as plt\n",
        "x = [340, 560, 290]\n",
        "cursos =['Computação', 'Eletrica', 'Produção']\n",
        "\n",
        "plt.axis('equal')\n",
        "plt.pie(x, labels=cursos)\n",
        "plt.title('Numero de estudantes por curso')\n",
        "plt.show()"
      ],
      "metadata": {
        "id": "ZbhHAqI2EyMe"
      },
      "execution_count": null,
      "outputs": []
    },
    {
      "cell_type": "code",
      "source": [
        "import matplotlib.pyplot as plt\n",
        "x = [340, 560, 290]\n",
        "cursos =['Computação', 'Eletrica', 'Produção']\n",
        "cores = ['r', 'm', 'y']\n",
        "\n",
        "plt.axis('equal')\n",
        "plt.pie(x, labels=cursos, colors=cores, shadow=True, autopct='%1.1f%%')\n",
        "plt.title('Numero de estudantes por curso')\n",
        "plt.show()"
      ],
      "metadata": {
        "id": "hkoZJc5qJcF2"
      },
      "execution_count": null,
      "outputs": []
    },
    {
      "cell_type": "code",
      "source": [
        "import matplotlib.pyplot as plt\n",
        "x = [340, 560, 290]\n",
        "cursos =['Computação', 'Eletrica', 'Produção']\n",
        "cores = ['pink', 'gray', 'green']\n",
        "\n",
        "plt.axis('equal')\n",
        "plt.pie(x, labels=cursos, colors=cores, shadow=True, explode=(0,0,0.1),\n",
        "        autopct='%1.1f%%')\n",
        "plt.title('Numero de estudantes por curso')\n",
        "plt.show()"
      ],
      "metadata": {
        "id": "uAc9KxbWKPmI"
      },
      "execution_count": null,
      "outputs": []
    },
    {
      "cell_type": "code",
      "source": [
        "from matplotlib import projections\n",
        "import matplotlib.pyplot as plt\n",
        "from mpl_toolkits.mplot3d import Axes3D\n",
        "import numpy as np\n",
        "\n",
        "x=np.linspace(-5,5,100)\n",
        "y=np.linspace(-5,5,100)\n",
        "X,Y = np.meshgrid(x,y)\n",
        "Z=X**2 + Y**2\n",
        "fig=plt.figure()\n",
        "ax=plt.axes(projection='3d')\n",
        "ax.plot_surface(X,Y,Z)\n",
        "plt.show()\n"
      ],
      "metadata": {
        "id": "_lPh9x4RLF-k"
      },
      "execution_count": null,
      "outputs": []
    },
    {
      "cell_type": "code",
      "source": [
        "from matplotlib import projections\n",
        "import matplotlib.pyplot as plt\n",
        "from mpl_toolkits.mplot3d import Axes3D\n",
        "import numpy as np\n",
        "\n",
        "fig=plt.figure()\n",
        "ax=plt.axes(projection='3d')\n",
        "Z=np.linspace(0,15,100)\n",
        "X=np.sin(Z)\n",
        "Y=np.cos(Z)\n",
        "ax.plot3D(X,Y,Z,'red')"
      ],
      "metadata": {
        "id": "QRBOsGXjN9dy"
      },
      "execution_count": null,
      "outputs": []
    },
    {
      "cell_type": "code",
      "source": [
        "from matplotlib import projections\n",
        "import matplotlib.pyplot as plt\n",
        "from mpl_toolkits.mplot3d import Axes3D\n",
        "import numpy as np\n",
        "\n",
        "x=np.linspace(-5,5,100)\n",
        "y=np.linspace(-5,5,100)\n",
        "X,Y = np.meshgrid(x,y)\n",
        "Z=X**2 + Y**2\n",
        "fig=plt.figure()\n",
        "ax=plt.axes(projection='3d')\n",
        "ax.plot_wireframe(X,Y,Z)\n",
        "plt.show()"
      ],
      "metadata": {
        "id": "vD5LTMbuO5FJ"
      },
      "execution_count": null,
      "outputs": []
    },
    {
      "cell_type": "code",
      "source": [
        "from matplotlib import projections\n",
        "import matplotlib.pyplot as plt\n",
        "from mpl_toolkits.mplot3d import Axes3D\n",
        "import numpy as np\n",
        "\n",
        "x=np.linspace(-5,5,100)\n",
        "y=np.linspace(-5,5,100)\n",
        "X,Y = np.meshgrid(x,y)\n",
        "Z=X**2 + Y**2\n",
        "fig=plt.figure()\n",
        "ax=plt.axes(projection='3d')\n",
        "ax.contour3D(X,Y,Z,15)\n",
        "plt.show()"
      ],
      "metadata": {
        "id": "S48sJrJdPJP_"
      },
      "execution_count": null,
      "outputs": []
    }
  ]
}